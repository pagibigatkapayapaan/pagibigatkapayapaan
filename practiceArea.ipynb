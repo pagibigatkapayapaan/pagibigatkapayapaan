{
 "cells": [
  {
   "cell_type": "code",
   "execution_count": 3,
   "id": "initial_id",
   "metadata": {
    "collapsed": true,
    "ExecuteTime": {
     "end_time": "2024-04-06T06:23:52.314399Z",
     "start_time": "2024-04-06T06:23:52.247482Z"
    }
   },
   "outputs": [
    {
     "data": {
      "text/plain": "{'stephen.marquard@uct.ac.za': 29,\n 'louis@media.berkeley.edu': 24,\n 'zqian@umich.edu': 195,\n 'rjlowe@iupui.edu': 90,\n 'cwen@iupui.edu': 158,\n 'gsilver@umich.edu': 28,\n 'wagnermr@iupui.edu': 44,\n 'antranig@caret.cam.ac.uk': 18,\n 'gopal.ramasammycook@gmail.com': 25,\n 'david.horwitz@uct.ac.za': 67,\n 'ray@media.berkeley.edu': 32,\n 'mmmay@indiana.edu': 161,\n 'stuart.freeman@et.gatech.edu': 17,\n 'tnguyen@iupui.edu': 6,\n 'chmaurer@iupui.edu': 111,\n 'aaronz@vt.edu': 110,\n 'ian@caret.cam.ac.uk': 96,\n 'csev@umich.edu': 19,\n 'jimeng@umich.edu': 93,\n 'josrodri@iupui.edu': 28,\n 'knoop@umich.edu': 5,\n 'bkirschn@umich.edu': 27,\n 'dlhaines@umich.edu': 84,\n 'hu2@iupui.edu': 7,\n 'sgithens@caret.cam.ac.uk': 43,\n 'arwhyte@umich.edu': 27,\n 'gbhatnag@umich.edu': 3,\n 'gjthomas@iupui.edu': 44,\n 'a.fish@lancaster.ac.uk': 14,\n 'ajpoland@iupui.edu': 48,\n 'lance@indiana.edu': 8,\n 'ssmail@indiana.edu': 5,\n 'jlrenfro@ucdavis.edu': 1,\n 'nuno@ufp.pt': 28,\n 'zach.thomas@txstate.edu': 17,\n 'ktsao@stanford.edu': 12,\n 'ostermmg@whitman.edu': 17,\n 'john.ellis@rsmart.com': 8,\n 'jleasia@umich.edu': 2,\n 'ggolden@umich.edu': 8,\n 'thoppaymallika@fhda.edu': 1,\n 'kimsooil@bu.edu': 14,\n 'bahollad@indiana.edu': 4,\n 'jzaremba@unicon.net': 9,\n 'mbreuker@loi.nl': 9,\n 'colin.clark@utoronto.ca': 1}"
     },
     "execution_count": 3,
     "metadata": {},
     "output_type": "execute_result"
    }
   ],
   "source": [
    "import os\n",
    "os.chdir('C:/Users/rbdem/Documents/code3/')\n",
    "\n",
    "data = [line.strip().split()[1] for line in open('mbox.txt') if line.startswith('From: ')]\n",
    "data_count = {x: data.count(x) for x in data}\n",
    "data_count"
   ]
  }
 ],
 "metadata": {
  "kernelspec": {
   "display_name": "Python 3",
   "language": "python",
   "name": "python3"
  },
  "language_info": {
   "codemirror_mode": {
    "name": "ipython",
    "version": 2
   },
   "file_extension": ".py",
   "mimetype": "text/x-python",
   "name": "python",
   "nbconvert_exporter": "python",
   "pygments_lexer": "ipython2",
   "version": "2.7.6"
  }
 },
 "nbformat": 4,
 "nbformat_minor": 5
}
